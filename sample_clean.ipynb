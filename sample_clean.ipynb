{
 "cells": [
  {
   "cell_type": "code",
   "execution_count": 1,
   "id": "5f775d6a-5f27-4375-9680-2f88136dd8a5",
   "metadata": {},
   "outputs": [],
   "source": [
    "import pandas as pd"
   ]
  },
  {
   "cell_type": "code",
   "execution_count": null,
   "id": "2ce42a8c-71b8-4bc7-befa-9944236949e0",
   "metadata": {},
   "outputs": [],
   "source": [
    "public_trees = pd.read_excel(\"data/raw/public-trees.xlsx\")\n",
    "public_trees.to_csv(\"data/raw/public-trees.csv\", index=False)\n",
    "public_trees.head()"
   ]
  },
  {
   "cell_type": "code",
   "execution_count": null,
   "id": "b6097f13-9e17-4858-a4c1-0beb1909bd5f",
   "metadata": {},
   "outputs": [],
   "source": [
    "display(public_trees.info())\n",
    "cols_with_nan = public_trees.columns[public_trees.isna().any()].tolist()\n",
    "display(cols_with_nan)"
   ]
  },
  {
   "cell_type": "code",
   "execution_count": null,
   "id": "5c9388fa-957c-4758-b0a1-e1d96370828a",
   "metadata": {},
   "outputs": [],
   "source": [
    "display(public_trees.nunique())"
   ]
  },
  {
   "cell_type": "code",
   "execution_count": null,
   "id": "3d172a8b-487c-43b4-bc30-2ab8aae31c6b",
   "metadata": {},
   "outputs": [],
   "source": [
    "public_trees_cleaned = public_trees.copy()\n",
    "public_trees_cleaned[['latitude', 'longitude']] = public_trees_cleaned['geo_point_2d'].str.split(', ', expand=True)\n",
    "public_trees_cleaned['latitude'] = public_trees_cleaned['latitude'].astype(float)\n",
    "public_trees_cleaned['longitude'] = public_trees_cleaned['longitude'].astype(float)"
   ]
  },
  {
   "cell_type": "code",
   "execution_count": null,
   "id": "726fa75d-56c7-4a48-8e73-084910f1f77c",
   "metadata": {},
   "outputs": [],
   "source": [
    "print(public_trees_cleaned[\"HEIGHT_RANGE\"].unique())\n",
    "priority_order = ['10-20', '20-30', '30-40', '40-50', '50-60', '60-70', '70-80', '80-90', '>90']\n",
    "public_trees_cleaned['HEIGHT_RANGE'] = pd.Categorical(public_trees_cleaned['HEIGHT_RANGE'], categories=priority_order, ordered=True).astype(str)\n",
    "# public_trees_cleaned['HEIGHT_RANGE'] = public_trees_cleaned['HEIGHT_RANGE']\n",
    "public_trees_cleaned['HEIGHT_RANGE_ID'] = public_trees_cleaned['HEIGHT_RANGE_ID'].replace([0, 10], 9)"
   ]
  },
  {
   "cell_type": "code",
   "execution_count": null,
   "id": "de69c58d-9554-4ee8-870d-ae762a2b94f6",
   "metadata": {},
   "outputs": [],
   "source": [
    "public_trees_cleaned['CULTIVAR_NAME'] = public_trees_cleaned['CULTIVAR_NAME'].fillna(public_trees_cleaned['SPECIES_NAME'])\n",
    "public_trees_cleaned['NEIGHBOURHOOD_NAME'] = public_trees_cleaned['NEIGHBOURHOOD_NAME'].fillna('NA')\n",
    "public_trees_cleaned['DATE_PLANTED'] = public_trees_cleaned['DATE_PLANTED'].fillna('NA')"
   ]
  },
  {
   "cell_type": "code",
   "execution_count": null,
   "id": "2a04a046-b128-461e-88f2-351992e52c93",
   "metadata": {},
   "outputs": [],
   "source": [
    "public_trees_cleaned = public_trees_cleaned[[\n",
    "    \"TREE_ID\", \"CIVIC_NUMBER\", \"STD_STREET\", \"GENUS_NAME\", \"SPECIES_NAME\", \"CULTIVAR_NAME\", \n",
    "    \"COMMON_NAME\", \"ON_STREET_BLOCK\", \"ON_STREET\", \"NEIGHBOURHOOD_NAME\", \"STREET_SIDE_NAME\", \n",
    "    \"HEIGHT_RANGE_ID\", \"HEIGHT_RANGE\", \"DIAMETER\", \"DATE_PLANTED\", \"latitude\", \"longitude\"\n",
    "]]"
   ]
  },
  {
   "cell_type": "code",
   "execution_count": null,
   "id": "7cca10aa-cf8a-469e-b984-5597f09d34c3",
   "metadata": {},
   "outputs": [],
   "source": [
    "display(public_trees_cleaned.info())\n",
    "public_trees_cleaned.head()"
   ]
  },
  {
   "cell_type": "code",
   "execution_count": null,
   "id": "bc193c4f-1def-45b8-91cc-5472ec2d230e",
   "metadata": {},
   "outputs": [],
   "source": [
    "public_trees_cleaned.to_csv(\"data/processed/public_trees_cleaned.csv\", index=False)"
   ]
  },
  {
   "cell_type": "code",
   "execution_count": null,
   "id": "0f116786-80b3-464a-a13e-29d2ef125a81",
   "metadata": {},
   "outputs": [],
   "source": [
    "public_trees_cleaned_2 = pd.read_csv(\"data/processed/public_trees_cleaned.csv\")\n",
    "public_trees_cleaned_2.head(15)"
   ]
  }
 ],
 "metadata": {
  "kernelspec": {
   "display_name": "Python [conda env:anaconda3]",
   "language": "python",
   "name": "conda-env-anaconda3-py"
  },
  "language_info": {
   "codemirror_mode": {
    "name": "ipython",
    "version": 3
   },
   "file_extension": ".py",
   "mimetype": "text/x-python",
   "name": "python",
   "nbconvert_exporter": "python",
   "pygments_lexer": "ipython3",
   "version": "3.12.2"
  }
 },
 "nbformat": 4,
 "nbformat_minor": 5
}
